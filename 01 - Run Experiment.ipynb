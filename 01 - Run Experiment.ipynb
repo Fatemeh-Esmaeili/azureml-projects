{
 "cells": [
  {
   "cell_type": "code",
   "execution_count": 4,
   "id": "78aebae5-c192-4d8e-a1bf-ec4213e97add",
   "metadata": {},
   "outputs": [
    {
     "ename": "ModuleNotFoundError",
     "evalue": "No module named 'pkg_resources'",
     "output_type": "error",
     "traceback": [
      "\u001b[1;31m---------------------------------------------------------------------------\u001b[0m",
      "\u001b[1;31mModuleNotFoundError\u001b[0m                       Traceback (most recent call last)",
      "Cell \u001b[1;32mIn[4], line 1\u001b[0m\n\u001b[1;32m----> 1\u001b[0m \u001b[38;5;28;01mimport\u001b[39;00m\u001b[38;5;250m \u001b[39m\u001b[38;5;21;01mazureml\u001b[39;00m\u001b[38;5;21;01m.\u001b[39;00m\u001b[38;5;21;01mcore\u001b[39;00m\n\u001b[0;32m      3\u001b[0m \u001b[38;5;28mprint\u001b[39m(\u001b[38;5;124m\"\u001b[39m\u001b[38;5;124mReady to use Azure ML\u001b[39m\u001b[38;5;124m\"\u001b[39m, azureml\u001b[38;5;241m.\u001b[39mcore\u001b[38;5;241m.\u001b[39mVERSION)\n",
      "File \u001b[1;32mD:\\Course\\azureml-projects\\venvazure\\Lib\\site-packages\\azureml\\core\\__init__.py:10\u001b[0m\n\u001b[0;32m      1\u001b[0m \u001b[38;5;66;03m# ---------------------------------------------------------\u001b[39;00m\n\u001b[0;32m      2\u001b[0m \u001b[38;5;66;03m# Copyright (c) Microsoft Corporation. All rights reserved.\u001b[39;00m\n\u001b[0;32m      3\u001b[0m \u001b[38;5;66;03m# ---------------------------------------------------------\u001b[39;00m\n\u001b[0;32m      5\u001b[0m \u001b[38;5;124;03m\"\"\"Contains core packages, modules and classes for Azure Machine Learning.\u001b[39;00m\n\u001b[0;32m      6\u001b[0m \n\u001b[0;32m      7\u001b[0m \u001b[38;5;124;03mMain areas include managing compute targets, creating/managing workspaces and experiments, and submitting/accessing\u001b[39;00m\n\u001b[0;32m      8\u001b[0m \u001b[38;5;124;03mmodel runs and run output/logging.\u001b[39;00m\n\u001b[0;32m      9\u001b[0m \u001b[38;5;124;03m\"\"\"\u001b[39;00m\n\u001b[1;32m---> 10\u001b[0m \u001b[38;5;28;01mfrom\u001b[39;00m\u001b[38;5;250m \u001b[39m\u001b[38;5;21;01mazureml\u001b[39;00m\u001b[38;5;21;01m.\u001b[39;00m\u001b[38;5;21;01mcore\u001b[39;00m\u001b[38;5;21;01m.\u001b[39;00m\u001b[38;5;21;01mworkspace\u001b[39;00m\u001b[38;5;250m \u001b[39m\u001b[38;5;28;01mimport\u001b[39;00m Workspace\n\u001b[0;32m     11\u001b[0m \u001b[38;5;28;01mfrom\u001b[39;00m\u001b[38;5;250m \u001b[39m\u001b[38;5;21;01mazureml\u001b[39;00m\u001b[38;5;21;01m.\u001b[39;00m\u001b[38;5;21;01mcore\u001b[39;00m\u001b[38;5;21;01m.\u001b[39;00m\u001b[38;5;21;01mexperiment\u001b[39;00m\u001b[38;5;250m \u001b[39m\u001b[38;5;28;01mimport\u001b[39;00m Experiment\n\u001b[0;32m     12\u001b[0m \u001b[38;5;28;01mfrom\u001b[39;00m\u001b[38;5;250m \u001b[39m\u001b[38;5;21;01mazureml\u001b[39;00m\u001b[38;5;21;01m.\u001b[39;00m\u001b[38;5;21;01mcore\u001b[39;00m\u001b[38;5;21;01m.\u001b[39;00m\u001b[38;5;21;01mrunconfig\u001b[39;00m\u001b[38;5;250m \u001b[39m\u001b[38;5;28;01mimport\u001b[39;00m RunConfiguration\n",
      "File \u001b[1;32mD:\\Course\\azureml-projects\\venvazure\\Lib\\site-packages\\azureml\\core\\workspace.py:31\u001b[0m\n\u001b[0;32m     29\u001b[0m \u001b[38;5;28;01mfrom\u001b[39;00m\u001b[38;5;250m \u001b[39m\u001b[38;5;21;01mazureml\u001b[39;00m\u001b[38;5;21;01m.\u001b[39;00m\u001b[38;5;21;01m_base_sdk_common\u001b[39;00m\u001b[38;5;21;01m.\u001b[39;00m\u001b[38;5;21;01mcommon\u001b[39;00m\u001b[38;5;250m \u001b[39m\u001b[38;5;28;01mimport\u001b[39;00m check_valid_resource_name\n\u001b[0;32m     30\u001b[0m \u001b[38;5;28;01mfrom\u001b[39;00m\u001b[38;5;250m \u001b[39m\u001b[38;5;21;01mazureml\u001b[39;00m\u001b[38;5;21;01m.\u001b[39;00m\u001b[38;5;21;01mcore\u001b[39;00m\u001b[38;5;21;01m.\u001b[39;00m\u001b[38;5;21;01mauthentication\u001b[39;00m\u001b[38;5;250m \u001b[39m\u001b[38;5;28;01mimport\u001b[39;00m InteractiveLoginAuthentication\n\u001b[1;32m---> 31\u001b[0m \u001b[38;5;28;01mfrom\u001b[39;00m\u001b[38;5;250m \u001b[39m\u001b[38;5;21;01mazureml\u001b[39;00m\u001b[38;5;21;01m.\u001b[39;00m\u001b[38;5;21;01mcore\u001b[39;00m\u001b[38;5;21;01m.\u001b[39;00m\u001b[38;5;21;01mcompute\u001b[39;00m\u001b[38;5;250m \u001b[39m\u001b[38;5;28;01mimport\u001b[39;00m ComputeTarget\n\u001b[0;32m     32\u001b[0m \u001b[38;5;28;01mfrom\u001b[39;00m\u001b[38;5;250m \u001b[39m\u001b[38;5;21;01mazureml\u001b[39;00m\u001b[38;5;21;01m.\u001b[39;00m\u001b[38;5;21;01mcore\u001b[39;00m\u001b[38;5;21;01m.\u001b[39;00m\u001b[38;5;21;01mimage\u001b[39;00m\u001b[38;5;250m \u001b[39m\u001b[38;5;28;01mimport\u001b[39;00m Image\n\u001b[0;32m     33\u001b[0m \u001b[38;5;28;01mfrom\u001b[39;00m\u001b[38;5;250m \u001b[39m\u001b[38;5;21;01mazureml\u001b[39;00m\u001b[38;5;21;01m.\u001b[39;00m\u001b[38;5;21;01mcore\u001b[39;00m\u001b[38;5;21;01m.\u001b[39;00m\u001b[38;5;21;01mmodel\u001b[39;00m\u001b[38;5;250m \u001b[39m\u001b[38;5;28;01mimport\u001b[39;00m Model\n",
      "File \u001b[1;32mD:\\Course\\azureml-projects\\venvazure\\Lib\\site-packages\\azureml\\core\\compute\\__init__.py:7\u001b[0m\n\u001b[0;32m      4\u001b[0m \u001b[38;5;124;03m\"\"\"This package contains classes used to manage Compute Targets objects within Azure Machine Learning.\"\"\"\u001b[39;00m\n\u001b[0;32m      6\u001b[0m \u001b[38;5;28;01mfrom\u001b[39;00m\u001b[38;5;250m \u001b[39m\u001b[38;5;21;01mazureml\u001b[39;00m\u001b[38;5;21;01m.\u001b[39;00m\u001b[38;5;21;01m_base_sdk_common\u001b[39;00m\u001b[38;5;250m \u001b[39m\u001b[38;5;28;01mimport\u001b[39;00m __version__ \u001b[38;5;28;01mas\u001b[39;00m VERSION\n\u001b[1;32m----> 7\u001b[0m \u001b[38;5;28;01mfrom\u001b[39;00m\u001b[38;5;250m \u001b[39m\u001b[38;5;21;01m.\u001b[39;00m\u001b[38;5;21;01mcompute\u001b[39;00m\u001b[38;5;250m \u001b[39m\u001b[38;5;28;01mimport\u001b[39;00m ComputeTarget\n\u001b[0;32m      8\u001b[0m \u001b[38;5;28;01mfrom\u001b[39;00m\u001b[38;5;250m \u001b[39m\u001b[38;5;21;01m.\u001b[39;00m\u001b[38;5;21;01maks\u001b[39;00m\u001b[38;5;250m \u001b[39m\u001b[38;5;28;01mimport\u001b[39;00m AksCompute\n\u001b[0;32m      9\u001b[0m \u001b[38;5;28;01mfrom\u001b[39;00m\u001b[38;5;250m \u001b[39m\u001b[38;5;21;01m.\u001b[39;00m\u001b[38;5;21;01mamlcompute\u001b[39;00m\u001b[38;5;250m \u001b[39m\u001b[38;5;28;01mimport\u001b[39;00m AmlCompute\n",
      "File \u001b[1;32mD:\\Course\\azureml-projects\\venvazure\\Lib\\site-packages\\azureml\\core\\compute\\compute.py:17\u001b[0m\n\u001b[0;32m     15\u001b[0m \u001b[38;5;28;01mimport\u001b[39;00m\u001b[38;5;250m \u001b[39m\u001b[38;5;21;01mtime\u001b[39;00m\n\u001b[0;32m     16\u001b[0m \u001b[38;5;28;01mfrom\u001b[39;00m\u001b[38;5;250m \u001b[39m\u001b[38;5;21;01mazureml\u001b[39;00m\u001b[38;5;21;01m.\u001b[39;00m\u001b[38;5;21;01m_compute\u001b[39;00m\u001b[38;5;21;01m.\u001b[39;00m\u001b[38;5;21;01m_constants\u001b[39;00m\u001b[38;5;250m \u001b[39m\u001b[38;5;28;01mimport\u001b[39;00m MLC_WORKSPACE_API_VERSION\n\u001b[1;32m---> 17\u001b[0m \u001b[38;5;28;01mfrom\u001b[39;00m\u001b[38;5;250m \u001b[39m\u001b[38;5;21;01mazureml\u001b[39;00m\u001b[38;5;21;01m.\u001b[39;00m\u001b[38;5;21;01m_compute\u001b[39;00m\u001b[38;5;21;01m.\u001b[39;00m\u001b[38;5;21;01m_util\u001b[39;00m\u001b[38;5;250m \u001b[39m\u001b[38;5;28;01mimport\u001b[39;00m WORKSPACE_API_VERSION\n\u001b[0;32m     18\u001b[0m \u001b[38;5;28;01mfrom\u001b[39;00m\u001b[38;5;250m \u001b[39m\u001b[38;5;21;01mazureml\u001b[39;00m\u001b[38;5;21;01m.\u001b[39;00m\u001b[38;5;21;01m_compute\u001b[39;00m\u001b[38;5;21;01m.\u001b[39;00m\u001b[38;5;21;01m_util\u001b[39;00m\u001b[38;5;250m \u001b[39m\u001b[38;5;28;01mimport\u001b[39;00m get_paginated_compute_results\n\u001b[0;32m     19\u001b[0m \u001b[38;5;28;01mfrom\u001b[39;00m\u001b[38;5;250m \u001b[39m\u001b[38;5;21;01mazureml\u001b[39;00m\u001b[38;5;21;01m.\u001b[39;00m\u001b[38;5;21;01mexceptions\u001b[39;00m\u001b[38;5;250m \u001b[39m\u001b[38;5;28;01mimport\u001b[39;00m ComputeTargetException, UserErrorException\n",
      "File \u001b[1;32mD:\\Course\\azureml-projects\\venvazure\\Lib\\site-packages\\azureml\\_compute\\_util.py:9\u001b[0m\n\u001b[0;32m      7\u001b[0m \u001b[38;5;28;01mimport\u001b[39;00m\u001b[38;5;250m \u001b[39m\u001b[38;5;21;01mrequests\u001b[39;00m\n\u001b[0;32m      8\u001b[0m \u001b[38;5;28;01mfrom\u001b[39;00m\u001b[38;5;250m \u001b[39m\u001b[38;5;21;01mmath\u001b[39;00m\u001b[38;5;250m \u001b[39m\u001b[38;5;28;01mimport\u001b[39;00m floor\n\u001b[1;32m----> 9\u001b[0m \u001b[38;5;28;01mfrom\u001b[39;00m\u001b[38;5;250m \u001b[39m\u001b[38;5;21;01mpkg_resources\u001b[39;00m\u001b[38;5;250m \u001b[39m\u001b[38;5;28;01mimport\u001b[39;00m resource_string\n\u001b[0;32m     10\u001b[0m \u001b[38;5;28;01mfrom\u001b[39;00m\u001b[38;5;250m \u001b[39m\u001b[38;5;21;01mazureml\u001b[39;00m\u001b[38;5;21;01m.\u001b[39;00m\u001b[38;5;21;01mexceptions\u001b[39;00m\u001b[38;5;250m \u001b[39m\u001b[38;5;28;01mimport\u001b[39;00m ComputeTargetException\n\u001b[0;32m     11\u001b[0m \u001b[38;5;28;01mfrom\u001b[39;00m\u001b[38;5;250m \u001b[39m\u001b[38;5;21;01mazureml\u001b[39;00m\u001b[38;5;21;01m.\u001b[39;00m\u001b[38;5;21;01mexceptions\u001b[39;00m\u001b[38;5;250m \u001b[39m\u001b[38;5;28;01mimport\u001b[39;00m UserErrorException\n",
      "\u001b[1;31mModuleNotFoundError\u001b[0m: No module named 'pkg_resources'"
     ]
    }
   ],
   "source": [
    "import azureml.core\n",
    "\n",
    "print(\"Ready to use Azure ML\", azureml.core.VERSION)\n"
   ]
  },
  {
   "cell_type": "code",
   "execution_count": 2,
   "id": "be8bf5ed-5339-4014-830e-925ced26e9a6",
   "metadata": {},
   "outputs": [
    {
     "name": "stdout",
     "output_type": "stream",
     "text": [
      "Collecting azureml-core\n",
      "  Using cached azureml_core-1.59.0.post1-py3-none-any.whl.metadata (3.4 kB)\n",
      "Requirement already satisfied: pytz in c:\\users\\mo\\anaconda3\\lib\\site-packages (from azureml-core) (2023.3.post1)\n",
      "Requirement already satisfied: backports.tempfile in c:\\users\\mo\\anaconda3\\lib\\site-packages (from azureml-core) (1.0)\n",
      "Requirement already satisfied: pathspec<1.0.0 in c:\\users\\mo\\anaconda3\\lib\\site-packages (from azureml-core) (0.10.3)\n",
      "Requirement already satisfied: requests<3.0.0,>=2.19.1 in c:\\users\\mo\\anaconda3\\lib\\site-packages (from requests[socks]<3.0.0,>=2.19.1->azureml-core) (2.31.0)\n",
      "Collecting msal<2.0.0,>=1.15.0 (from azureml-core)\n",
      "  Using cached msal-1.31.1-py3-none-any.whl.metadata (11 kB)\n",
      "Collecting msal-extensions<=2.0.0,>=0.3.0 (from azureml-core)\n",
      "  Using cached msal_extensions-1.2.0-py3-none-any.whl.metadata (7.6 kB)\n",
      "Collecting knack<0.13.0 (from azureml-core)\n",
      "  Using cached knack-0.12.0-py3-none-any.whl.metadata (5.2 kB)\n",
      "Collecting azure-core<2.0.0 (from azureml-core)\n",
      "  Using cached azure_core-1.32.0-py3-none-any.whl.metadata (39 kB)\n",
      "Requirement already satisfied: pkginfo in c:\\users\\mo\\anaconda3\\lib\\site-packages (from azureml-core) (1.9.6)\n",
      "Collecting argcomplete<4 (from azureml-core)\n",
      "  Using cached argcomplete-3.5.3-py3-none-any.whl.metadata (16 kB)\n",
      "Collecting humanfriendly<11.0,>=4.7 (from azureml-core)\n",
      "  Using cached humanfriendly-10.0-py2.py3-none-any.whl.metadata (9.2 kB)\n",
      "Requirement already satisfied: paramiko<4.0.0,>=2.0.8 in c:\\users\\mo\\anaconda3\\lib\\site-packages (from azureml-core) (2.8.1)\n",
      "Collecting azure-mgmt-resource<=24.0.0,>=15.0.0 (from azureml-core)\n",
      "  Using cached azure_mgmt_resource-23.3.0-py3-none-any.whl.metadata (41 kB)\n",
      "Collecting azure-mgmt-containerregistry<11,>=8.2.0 (from azureml-core)\n",
      "  Using cached azure_mgmt_containerregistry-10.3.0-py3-none-any.whl.metadata (23 kB)\n",
      "Collecting azure-mgmt-storage<=22.0.0,>=16.0.0 (from azureml-core)\n",
      "  Using cached azure_mgmt_storage-22.0.0-py3-none-any.whl.metadata (31 kB)\n",
      "Collecting azure-mgmt-keyvault<11.0.0,>=0.40.0 (from azureml-core)\n",
      "  Using cached azure_mgmt_keyvault-10.3.1-py3-none-any.whl.metadata (15 kB)\n",
      "Collecting azure-mgmt-authorization<5,>=0.40.0 (from azureml-core)\n",
      "  Using cached azure_mgmt_authorization-4.0.0-py3-none-any.whl.metadata (18 kB)\n",
      "Collecting azure-mgmt-network<=29.0.0 (from azureml-core)\n",
      "  Using cached azure_mgmt_network-28.1.0-py3-none-any.whl.metadata (90 kB)\n",
      "Collecting azure-graphrbac<1.0.0,>=0.40.0 (from azureml-core)\n",
      "  Using cached azure_graphrbac-0.61.2-py2.py3-none-any.whl.metadata (11 kB)\n",
      "Collecting azure-common<2.0.0,>=1.1.12 (from azureml-core)\n",
      "  Using cached azure_common-1.1.28-py2.py3-none-any.whl.metadata (5.0 kB)\n",
      "Collecting msrest<=0.7.1,>=0.5.1 (from azureml-core)\n",
      "  Using cached msrest-0.7.1-py3-none-any.whl.metadata (21 kB)\n",
      "Collecting msrestazure<=0.7,>=0.4.33 (from azureml-core)\n",
      "  Using cached msrestazure-0.6.4.post1-py2.py3-none-any.whl.metadata (15 kB)\n",
      "Requirement already satisfied: urllib3<3.0.0,>1.26.17 in c:\\users\\mo\\anaconda3\\lib\\site-packages (from azureml-core) (2.0.7)\n",
      "Requirement already satisfied: packaging<=25.0,>=20.0 in c:\\users\\mo\\anaconda3\\lib\\site-packages (from azureml-core) (23.1)\n",
      "Requirement already satisfied: python-dateutil<3.0.0,>=2.7.3 in c:\\users\\mo\\anaconda3\\lib\\site-packages (from azureml-core) (2.8.2)\n",
      "Collecting ndg-httpsclient<=0.5.1 (from azureml-core)\n",
      "  Using cached ndg_httpsclient-0.5.1-py3-none-any.whl.metadata (6.2 kB)\n",
      "Collecting SecretStorage<4.0.0 (from azureml-core)\n",
      "  Using cached SecretStorage-3.3.3-py3-none-any.whl.metadata (4.0 kB)\n",
      "Collecting jsonpickle<5.0.0 (from azureml-core)\n",
      "  Using cached jsonpickle-4.0.2-py3-none-any.whl.metadata (8.2 kB)\n",
      "Collecting contextlib2<22.0.0 (from azureml-core)\n",
      "  Using cached contextlib2-21.6.0-py2.py3-none-any.whl.metadata (4.1 kB)\n",
      "Collecting docker<8.0.0 (from azureml-core)\n",
      "  Using cached docker-7.1.0-py3-none-any.whl.metadata (3.8 kB)\n",
      "Requirement already satisfied: PyJWT<3.0.0 in c:\\users\\mo\\anaconda3\\lib\\site-packages (from azureml-core) (2.4.0)\n",
      "Collecting adal<=1.2.7,>=1.2.0 (from azureml-core)\n",
      "  Using cached adal-1.2.7-py2.py3-none-any.whl.metadata (6.9 kB)\n",
      "Requirement already satisfied: pyopenssl<25.0.0 in c:\\users\\mo\\anaconda3\\lib\\site-packages (from azureml-core) (24.0.0)\n",
      "Requirement already satisfied: jmespath<2.0.0 in c:\\users\\mo\\anaconda3\\lib\\site-packages (from azureml-core) (1.0.1)\n",
      "Requirement already satisfied: cryptography>=1.1.0 in c:\\users\\mo\\anaconda3\\lib\\site-packages (from adal<=1.2.7,>=1.2.0->azureml-core) (42.0.2)\n",
      "Requirement already satisfied: six>=1.11.0 in c:\\users\\mo\\anaconda3\\lib\\site-packages (from azure-core<2.0.0->azureml-core) (1.16.0)\n",
      "Requirement already satisfied: typing-extensions>=4.6.0 in c:\\users\\mo\\anaconda3\\lib\\site-packages (from azure-core<2.0.0->azureml-core) (4.9.0)\n",
      "Collecting isodate<1.0.0,>=0.6.1 (from azure-mgmt-authorization<5,>=0.40.0->azureml-core)\n",
      "  Using cached isodate-0.7.2-py3-none-any.whl.metadata (11 kB)\n",
      "Collecting azure-mgmt-core<2.0.0,>=1.3.2 (from azure-mgmt-authorization<5,>=0.40.0->azureml-core)\n",
      "  Using cached azure_mgmt_core-1.5.0-py3-none-any.whl.metadata (4.3 kB)\n",
      "Requirement already satisfied: pywin32>=304 in c:\\users\\mo\\anaconda3\\lib\\site-packages (from docker<8.0.0->azureml-core) (305.1)\n",
      "Collecting pyreadline3 (from humanfriendly<11.0,>=4.7->azureml-core)\n",
      "  Using cached pyreadline3-3.5.4-py3-none-any.whl.metadata (4.7 kB)\n",
      "Requirement already satisfied: pygments in c:\\users\\mo\\anaconda3\\lib\\site-packages (from knack<0.13.0->azureml-core) (2.15.1)\n",
      "Requirement already satisfied: pyyaml in c:\\users\\mo\\anaconda3\\lib\\site-packages (from knack<0.13.0->azureml-core) (6.0.1)\n",
      "Requirement already satisfied: tabulate in c:\\users\\mo\\anaconda3\\lib\\site-packages (from knack<0.13.0->azureml-core) (0.9.0)\n",
      "Collecting portalocker<3,>=1.4 (from msal-extensions<=2.0.0,>=0.3.0->azureml-core)\n",
      "  Using cached portalocker-2.10.1-py3-none-any.whl.metadata (8.5 kB)\n",
      "Requirement already satisfied: certifi>=2017.4.17 in c:\\users\\mo\\anaconda3\\lib\\site-packages (from msrest<=0.7.1,>=0.5.1->azureml-core) (2024.8.30)\n",
      "Collecting requests-oauthlib>=0.5.0 (from msrest<=0.7.1,>=0.5.1->azureml-core)\n",
      "  Using cached requests_oauthlib-2.0.0-py2.py3-none-any.whl.metadata (11 kB)\n",
      "Requirement already satisfied: pyasn1>=0.1.1 in c:\\users\\mo\\anaconda3\\lib\\site-packages (from ndg-httpsclient<=0.5.1->azureml-core) (0.4.8)\n",
      "Requirement already satisfied: bcrypt>=3.1.3 in c:\\users\\mo\\anaconda3\\lib\\site-packages (from paramiko<4.0.0,>=2.0.8->azureml-core) (3.2.0)\n",
      "Requirement already satisfied: pynacl>=1.0.1 in c:\\users\\mo\\anaconda3\\lib\\site-packages (from paramiko<4.0.0,>=2.0.8->azureml-core) (1.5.0)\n",
      "Requirement already satisfied: charset-normalizer<4,>=2 in c:\\users\\mo\\anaconda3\\lib\\site-packages (from requests<3.0.0,>=2.19.1->requests[socks]<3.0.0,>=2.19.1->azureml-core) (2.0.4)\n",
      "Requirement already satisfied: idna<4,>=2.5 in c:\\users\\mo\\anaconda3\\lib\\site-packages (from requests<3.0.0,>=2.19.1->requests[socks]<3.0.0,>=2.19.1->azureml-core) (3.4)\n",
      "Requirement already satisfied: PySocks!=1.5.7,>=1.5.6 in c:\\users\\mo\\anaconda3\\lib\\site-packages (from requests[socks]<3.0.0,>=2.19.1->azureml-core) (1.7.1)\n",
      "Collecting jeepney>=0.6 (from SecretStorage<4.0.0->azureml-core)\n",
      "  Using cached jeepney-0.9.0-py3-none-any.whl.metadata (1.2 kB)\n",
      "Requirement already satisfied: backports.weakref in c:\\users\\mo\\anaconda3\\lib\\site-packages (from backports.tempfile->azureml-core) (1.0.post1)\n",
      "Requirement already satisfied: cffi>=1.1 in c:\\users\\mo\\anaconda3\\lib\\site-packages (from bcrypt>=3.1.3->paramiko<4.0.0,>=2.0.8->azureml-core) (1.16.0)\n",
      "Collecting oauthlib>=3.0.0 (from requests-oauthlib>=0.5.0->msrest<=0.7.1,>=0.5.1->azureml-core)\n",
      "  Using cached oauthlib-3.2.2-py3-none-any.whl.metadata (7.5 kB)\n",
      "Requirement already satisfied: pycparser in c:\\users\\mo\\anaconda3\\lib\\site-packages (from cffi>=1.1->bcrypt>=3.1.3->paramiko<4.0.0,>=2.0.8->azureml-core) (2.21)\n",
      "Using cached azureml_core-1.59.0.post1-py3-none-any.whl (3.3 MB)\n",
      "Using cached adal-1.2.7-py2.py3-none-any.whl (55 kB)\n",
      "Using cached argcomplete-3.5.3-py3-none-any.whl (43 kB)\n",
      "Using cached azure_common-1.1.28-py2.py3-none-any.whl (14 kB)\n",
      "Using cached azure_core-1.32.0-py3-none-any.whl (198 kB)\n",
      "Using cached azure_graphrbac-0.61.2-py2.py3-none-any.whl (142 kB)\n",
      "Using cached azure_mgmt_authorization-4.0.0-py3-none-any.whl (1.1 MB)\n",
      "Using cached azure_mgmt_containerregistry-10.3.0-py3-none-any.whl (2.3 MB)\n",
      "Using cached azure_mgmt_keyvault-10.3.1-py3-none-any.whl (901 kB)\n",
      "Using cached azure_mgmt_network-28.1.0-py3-none-any.whl (575 kB)\n",
      "Using cached azure_mgmt_resource-23.3.0-py3-none-any.whl (2.9 MB)\n",
      "Using cached azure_mgmt_storage-22.0.0-py3-none-any.whl (564 kB)\n",
      "Using cached contextlib2-21.6.0-py2.py3-none-any.whl (13 kB)\n",
      "Using cached docker-7.1.0-py3-none-any.whl (147 kB)\n",
      "Using cached humanfriendly-10.0-py2.py3-none-any.whl (86 kB)\n",
      "Using cached jsonpickle-4.0.2-py3-none-any.whl (46 kB)\n",
      "Using cached knack-0.12.0-py3-none-any.whl (60 kB)\n",
      "Using cached msal-1.31.1-py3-none-any.whl (113 kB)\n",
      "Using cached msal_extensions-1.2.0-py3-none-any.whl (19 kB)\n",
      "Using cached msrest-0.7.1-py3-none-any.whl (85 kB)\n",
      "Using cached msrestazure-0.6.4.post1-py2.py3-none-any.whl (40 kB)\n",
      "Using cached ndg_httpsclient-0.5.1-py3-none-any.whl (34 kB)\n",
      "Using cached SecretStorage-3.3.3-py3-none-any.whl (15 kB)\n",
      "Using cached azure_mgmt_core-1.5.0-py3-none-any.whl (30 kB)\n",
      "Using cached isodate-0.7.2-py3-none-any.whl (22 kB)\n",
      "Using cached jeepney-0.9.0-py3-none-any.whl (49 kB)\n",
      "Using cached portalocker-2.10.1-py3-none-any.whl (18 kB)\n",
      "Using cached requests_oauthlib-2.0.0-py2.py3-none-any.whl (24 kB)\n",
      "Using cached pyreadline3-3.5.4-py3-none-any.whl (83 kB)\n",
      "Using cached oauthlib-3.2.2-py3-none-any.whl (151 kB)\n",
      "Installing collected packages: azure-common, pyreadline3, portalocker, oauthlib, jsonpickle, jeepney, isodate, contextlib2, argcomplete, requests-oauthlib, knack, humanfriendly, docker, azure-core, SecretStorage, msrest, azure-mgmt-core, adal, ndg-httpsclient, msrestazure, msal, azure-mgmt-storage, azure-mgmt-resource, azure-mgmt-network, azure-mgmt-keyvault, azure-mgmt-containerregistry, azure-mgmt-authorization, msal-extensions, azure-graphrbac, azureml-core\n",
      "Successfully installed SecretStorage-3.3.3 adal-1.2.7 argcomplete-3.5.3 azure-common-1.1.28 azure-core-1.32.0 azure-graphrbac-0.61.2 azure-mgmt-authorization-4.0.0 azure-mgmt-containerregistry-10.3.0 azure-mgmt-core-1.5.0 azure-mgmt-keyvault-10.3.1 azure-mgmt-network-28.1.0 azure-mgmt-resource-23.3.0 azure-mgmt-storage-22.0.0 azureml-core-1.59.0.post1 contextlib2-21.6.0 docker-7.1.0 humanfriendly-10.0 isodate-0.7.2 jeepney-0.9.0 jsonpickle-4.0.2 knack-0.12.0 msal-1.31.1 msal-extensions-1.2.0 msrest-0.7.1 msrestazure-0.6.4.post1 ndg-httpsclient-0.5.1 oauthlib-3.2.2 portalocker-2.10.1 pyreadline3-3.5.4 requests-oauthlib-2.0.0\n"
     ]
    }
   ],
   "source": [
    "!pip install azureml-core"
   ]
  },
  {
   "cell_type": "code",
   "execution_count": 1,
   "id": "77daeca6-dcef-4904-8734-404be6873fb5",
   "metadata": {},
   "outputs": [
    {
     "data": {
      "text/plain": [
       "'2.2.3'"
      ]
     },
     "execution_count": 1,
     "metadata": {},
     "output_type": "execute_result"
    }
   ],
   "source": [
    "import numpy as np\n",
    "np.__version__"
   ]
  }
 ],
 "metadata": {
  "kernelspec": {
   "display_name": "venvazure",
   "language": "python",
   "name": "venvazure"
  },
  "language_info": {
   "codemirror_mode": {
    "name": "ipython",
    "version": 3
   },
   "file_extension": ".py",
   "mimetype": "text/x-python",
   "name": "python",
   "nbconvert_exporter": "python",
   "pygments_lexer": "ipython3",
   "version": "3.12.2"
  }
 },
 "nbformat": 4,
 "nbformat_minor": 5
}
