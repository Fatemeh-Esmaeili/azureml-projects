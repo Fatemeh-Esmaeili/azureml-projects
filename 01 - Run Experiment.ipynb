{
 "cells": [
  {
   "cell_type": "code",
   "execution_count": 2,
   "id": "78aebae5-c192-4d8e-a1bf-ec4213e97add",
   "metadata": {},
   "outputs": [
    {
     "name": "stdout",
     "output_type": "stream",
     "text": [
      "Ready to use Azure ML 1.59.0\n"
     ]
    }
   ],
   "source": [
    "import azureml.core\n",
    "\n",
    "print(\"Ready to use Azure ML\", azureml.core.VERSION)\n"
   ]
  },
  {
   "cell_type": "code",
   "execution_count": 2,
   "id": "be8bf5ed-5339-4014-830e-925ced26e9a6",
   "metadata": {},
   "outputs": [],
   "source": [
    "#!pip install azureml-core"
   ]
  },
  {
   "cell_type": "code",
   "execution_count": 3,
   "id": "77daeca6-dcef-4904-8734-404be6873fb5",
   "metadata": {},
   "outputs": [],
   "source": [
    "#import numpy as np\n",
    "#np.__version__"
   ]
  },
  {
   "cell_type": "code",
   "execution_count": 3,
   "id": "4882598d-0041-4fb1-bafa-b2ed39a9e4db",
   "metadata": {},
   "outputs": [],
   "source": [
    "import pkg_resources\n"
   ]
  },
  {
   "cell_type": "code",
   "execution_count": 4,
   "id": "3ae985fb-f98e-4c19-bd7f-fac774939b67",
   "metadata": {},
   "outputs": [
    {
     "name": "stdout",
     "output_type": "stream",
     "text": [
      "D:\\Course\\azureml-projects\\venvazure\\Lib\\site-packages\\pkg_resources\\__init__.py\n"
     ]
    }
   ],
   "source": [
    "print(pkg_resources.__file__)"
   ]
  },
  {
   "cell_type": "code",
   "execution_count": null,
   "id": "61de9844-d9c5-40ff-ad37-b9a7adb5b682",
   "metadata": {},
   "outputs": [],
   "source": []
  },
  {
   "cell_type": "code",
   "execution_count": null,
   "id": "29bee67b-6204-4a72-8e5e-7a9a00a49d17",
   "metadata": {},
   "outputs": [],
   "source": []
  }
 ],
 "metadata": {
  "kernelspec": {
   "display_name": "venvazure",
   "language": "python",
   "name": "venvazure"
  },
  "language_info": {
   "codemirror_mode": {
    "name": "ipython",
    "version": 3
   },
   "file_extension": ".py",
   "mimetype": "text/x-python",
   "name": "python",
   "nbconvert_exporter": "python",
   "pygments_lexer": "ipython3",
   "version": "3.9.13"
  }
 },
 "nbformat": 4,
 "nbformat_minor": 5
}
